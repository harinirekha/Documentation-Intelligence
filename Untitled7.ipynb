{
  "nbformat": 4,
  "nbformat_minor": 0,
  "metadata": {
    "colab": {
      "provenance": [],
      "authorship_tag": "ABX9TyNGDBJs+M1mpvmlRZyMP/6A",
      "include_colab_link": true
    },
    "kernelspec": {
      "name": "python3",
      "display_name": "Python 3"
    },
    "language_info": {
      "name": "python"
    }
  },
  "cells": [
    {
      "cell_type": "markdown",
      "metadata": {
        "id": "view-in-github",
        "colab_type": "text"
      },
      "source": [
        "<a href=\"https://colab.research.google.com/github/harinirekha/Documentation-Intelligence/blob/main/Untitled7.ipynb\" target=\"_parent\"><img src=\"https://colab.research.google.com/assets/colab-badge.svg\" alt=\"Open In Colab\"/></a>"
      ]
    },
    {
      "cell_type": "code",
      "execution_count": null,
      "metadata": {
        "colab": {
          "base_uri": "https://localhost:8080/"
        },
        "id": "ut2P6ZnKPYbh",
        "outputId": "d585ae84-c5ea-4990-fd5a-576aa8df8750"
      },
      "outputs": [
        {
          "output_type": "stream",
          "name": "stdout",
          "text": [
            "Requirement already satisfied: pdfplumber in /usr/local/lib/python3.10/dist-packages (0.11.5)\n",
            "Requirement already satisfied: pdfminer.six==20231228 in /usr/local/lib/python3.10/dist-packages (from pdfplumber) (20231228)\n",
            "Requirement already satisfied: Pillow>=9.1 in /usr/local/lib/python3.10/dist-packages (from pdfplumber) (11.1.0)\n",
            "Requirement already satisfied: pypdfium2>=4.18.0 in /usr/local/lib/python3.10/dist-packages (from pdfplumber) (4.30.1)\n",
            "Requirement already satisfied: charset-normalizer>=2.0.0 in /usr/local/lib/python3.10/dist-packages (from pdfminer.six==20231228->pdfplumber) (3.4.1)\n",
            "Requirement already satisfied: cryptography>=36.0.0 in /usr/local/lib/python3.10/dist-packages (from pdfminer.six==20231228->pdfplumber) (43.0.3)\n",
            "Requirement already satisfied: cffi>=1.12 in /usr/local/lib/python3.10/dist-packages (from cryptography>=36.0.0->pdfminer.six==20231228->pdfplumber) (1.17.1)\n",
            "Requirement already satisfied: pycparser in /usr/local/lib/python3.10/dist-packages (from cffi>=1.12->cryptography>=36.0.0->pdfminer.six==20231228->pdfplumber) (2.22)\n",
            "✅ Data saved to /content/document_extraction.xlsx\n"
          ]
        }
      ],
      "source": [
        "!pip install pdfplumber\n",
        "import pdfplumber\n",
        "import pandas as pd\n",
        "\n",
        "def extract_text_from_pdf(pdf_path):\n",
        "    text_data = []\n",
        "    with pdfplumber.open(pdf_path) as pdf:\n",
        "        for page in pdf.pages:\n",
        "            text_data.append(page.extract_text())\n",
        "    return \"\\n\".join(text_data) if text_data else \"No text extracted\"\n",
        "\n",
        "def search_keywords(text, keywords):\n",
        "    results = []\n",
        "    lines = text.split(\"\\n\")\n",
        "    seen_snippets = set()\n",
        "\n",
        "    for keyword in keywords:\n",
        "        for i, line in enumerate(lines):\n",
        "            if keyword.lower() in line.lower():\n",
        "                content_snippet = \"\\n\".join(lines[max(0, i-2): min(len(lines), i+3)])\n",
        "                if content_snippet not in seen_snippets:\n",
        "                    results.append({\"Keyword\": keyword, \"Extracted Content\": content_snippet})\n",
        "                    seen_snippets.add(content_snippet)\n",
        "\n",
        "    return results\n",
        "\n",
        "def save_to_excel(data, excel_filename, source_book_name):\n",
        "    df = pd.DataFrame(data)\n",
        "    df['Source Book'] = source_book_name\n",
        "    df.to_excel(excel_filename, index=False)\n",
        "    print(f\"✅ Data saved to {excel_filename}\")\n",
        "\n",
        "def process_pdf(pdf_path, keywords, output_excel, source_book_name):\n",
        "    extracted_text = extract_text_from_pdf(pdf_path)\n",
        "    extracted_data = search_keywords(extracted_text, keywords)\n",
        "\n",
        "    if extracted_data:\n",
        "        save_to_excel(extracted_data, output_excel, source_book_name)\n",
        "    else:\n",
        "        print(\"❌ No matches found for the given keywords!\")\n",
        "\n",
        "pdf_file = \"/content/Engineering+Working+Drawing+Basics.pdf\"\n",
        "keywords = [\"Codes and Standards\",\"Material or Parts List\"]\n",
        "output_excel = \"/content/document_extraction.xlsx\"\n",
        "source_book_name = \"Engineering+Working+Drawing+Basics\"\n",
        "\n",
        "process_pdf(pdf_file, keywords, output_excel, source_book_name)\n"
      ]
    },
    {
      "cell_type": "code",
      "source": [
        "from google.colab import files\n",
        "files.download(\"/content/document_extraction.xlsx\")"
      ],
      "metadata": {
        "colab": {
          "base_uri": "https://localhost:8080/",
          "height": 17
        },
        "id": "ksUrUtiUQXcA",
        "outputId": "e00d19c8-746a-4e0b-eb8c-0b1b84ab8a98"
      },
      "execution_count": null,
      "outputs": [
        {
          "output_type": "display_data",
          "data": {
            "text/plain": [
              "<IPython.core.display.Javascript object>"
            ],
            "application/javascript": [
              "\n",
              "    async function download(id, filename, size) {\n",
              "      if (!google.colab.kernel.accessAllowed) {\n",
              "        return;\n",
              "      }\n",
              "      const div = document.createElement('div');\n",
              "      const label = document.createElement('label');\n",
              "      label.textContent = `Downloading \"${filename}\": `;\n",
              "      div.appendChild(label);\n",
              "      const progress = document.createElement('progress');\n",
              "      progress.max = size;\n",
              "      div.appendChild(progress);\n",
              "      document.body.appendChild(div);\n",
              "\n",
              "      const buffers = [];\n",
              "      let downloaded = 0;\n",
              "\n",
              "      const channel = await google.colab.kernel.comms.open(id);\n",
              "      // Send a message to notify the kernel that we're ready.\n",
              "      channel.send({})\n",
              "\n",
              "      for await (const message of channel.messages) {\n",
              "        // Send a message to notify the kernel that we're ready.\n",
              "        channel.send({})\n",
              "        if (message.buffers) {\n",
              "          for (const buffer of message.buffers) {\n",
              "            buffers.push(buffer);\n",
              "            downloaded += buffer.byteLength;\n",
              "            progress.value = downloaded;\n",
              "          }\n",
              "        }\n",
              "      }\n",
              "      const blob = new Blob(buffers, {type: 'application/binary'});\n",
              "      const a = document.createElement('a');\n",
              "      a.href = window.URL.createObjectURL(blob);\n",
              "      a.download = filename;\n",
              "      div.appendChild(a);\n",
              "      a.click();\n",
              "      div.remove();\n",
              "    }\n",
              "  "
            ]
          },
          "metadata": {}
        },
        {
          "output_type": "display_data",
          "data": {
            "text/plain": [
              "<IPython.core.display.Javascript object>"
            ],
            "application/javascript": [
              "download(\"download_0ed1cfed-deec-47e8-a06f-2c85dd2f8da2\", \"document_extraction.xlsx\", 5426)"
            ]
          },
          "metadata": {}
        }
      ]
    },
    {
      "cell_type": "code",
      "source": [
        "!pip install PyPDF2\n",
        "import re\n",
        "from PyPDF2 import PdfReader\n",
        "import pandas as pd\n",
        "\n",
        "pdf_path = '/content/Autodesk Inventor Practice Part Drawings.pdf'\n",
        "reader = PdfReader(pdf_path)\n",
        "\n",
        "pdf_text = [page.extract_text() for page in reader.pages]\n",
        "combined_text = \" \".join(pdf_text)\n",
        "\n",
        "pattern = re.compile(r\"([A-Za-z0-9\\s,-]+\\.ipt)(.*?)(?=(?:[A-Za-z0-9\\s,-]+\\.ipt|$))\", re.DOTALL)\n",
        "matches = pattern.findall(combined_text)\n",
        "\n",
        "parsed_data = [{\"Name\": match[0].strip(), \"Content\": match[1].strip()} for match in matches]\n",
        "df = pd.DataFrame(parsed_data)\n",
        "\n",
        "output_path = 'documentation_intelligence.xlsx'\n",
        "df.to_excel(output_path, index=False)\n",
        "\n",
        "print(f\"Extraction completed. Data saved to {output_path}.\")\n"
      ],
      "metadata": {
        "id": "yNaMBLJTiqOx",
        "colab": {
          "base_uri": "https://localhost:8080/"
        },
        "outputId": "c9341cc8-4612-4070-e3a7-624228b1c07d"
      },
      "execution_count": null,
      "outputs": [
        {
          "output_type": "stream",
          "name": "stdout",
          "text": [
            "Requirement already satisfied: PyPDF2 in /usr/local/lib/python3.10/dist-packages (3.0.1)\n",
            "Extraction completed. Data saved to documentation_intelligence.xlsx.\n"
          ]
        }
      ]
    },
    {
      "cell_type": "code",
      "source": [
        "from google.colab import files\n",
        "files.download(\"/content/documentation_intelligence.xlsx\")\n"
      ],
      "metadata": {
        "id": "4zJtTAF7kVac",
        "colab": {
          "base_uri": "https://localhost:8080/",
          "height": 17
        },
        "outputId": "b1eceb10-7526-4914-ae64-28db5a31d506"
      },
      "execution_count": null,
      "outputs": [
        {
          "output_type": "display_data",
          "data": {
            "text/plain": [
              "<IPython.core.display.Javascript object>"
            ],
            "application/javascript": [
              "\n",
              "    async function download(id, filename, size) {\n",
              "      if (!google.colab.kernel.accessAllowed) {\n",
              "        return;\n",
              "      }\n",
              "      const div = document.createElement('div');\n",
              "      const label = document.createElement('label');\n",
              "      label.textContent = `Downloading \"${filename}\": `;\n",
              "      div.appendChild(label);\n",
              "      const progress = document.createElement('progress');\n",
              "      progress.max = size;\n",
              "      div.appendChild(progress);\n",
              "      document.body.appendChild(div);\n",
              "\n",
              "      const buffers = [];\n",
              "      let downloaded = 0;\n",
              "\n",
              "      const channel = await google.colab.kernel.comms.open(id);\n",
              "      // Send a message to notify the kernel that we're ready.\n",
              "      channel.send({})\n",
              "\n",
              "      for await (const message of channel.messages) {\n",
              "        // Send a message to notify the kernel that we're ready.\n",
              "        channel.send({})\n",
              "        if (message.buffers) {\n",
              "          for (const buffer of message.buffers) {\n",
              "            buffers.push(buffer);\n",
              "            downloaded += buffer.byteLength;\n",
              "            progress.value = downloaded;\n",
              "          }\n",
              "        }\n",
              "      }\n",
              "      const blob = new Blob(buffers, {type: 'application/binary'});\n",
              "      const a = document.createElement('a');\n",
              "      a.href = window.URL.createObjectURL(blob);\n",
              "      a.download = filename;\n",
              "      div.appendChild(a);\n",
              "      a.click();\n",
              "      div.remove();\n",
              "    }\n",
              "  "
            ]
          },
          "metadata": {}
        },
        {
          "output_type": "display_data",
          "data": {
            "text/plain": [
              "<IPython.core.display.Javascript object>"
            ],
            "application/javascript": [
              "download(\"download_6bed3cc4-37f7-4beb-aaf9-7a4088cafcb5\", \"documentation_intelligence.xlsx\", 7706)"
            ]
          },
          "metadata": {}
        }
      ]
    }
  ]
}